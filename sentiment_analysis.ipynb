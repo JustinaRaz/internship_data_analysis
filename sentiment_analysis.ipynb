{
 "cells": [
  {
   "cell_type": "code",
   "execution_count": 21,
   "id": "137046f6-7f89-4fa4-876c-a3d4f896b8fe",
   "metadata": {},
   "outputs": [
    {
     "name": "stdout",
     "output_type": "stream",
     "text": [
      "Collecting spacy\n",
      "  Downloading spacy-3.8.4-cp312-cp312-manylinux_2_17_x86_64.manylinux2014_x86_64.whl.metadata (27 kB)\n",
      "Collecting spacy-legacy<3.1.0,>=3.0.11 (from spacy)\n",
      "  Downloading spacy_legacy-3.0.12-py2.py3-none-any.whl.metadata (2.8 kB)\n",
      "Collecting spacy-loggers<2.0.0,>=1.0.0 (from spacy)\n",
      "  Downloading spacy_loggers-1.0.5-py3-none-any.whl.metadata (23 kB)\n",
      "Collecting murmurhash<1.1.0,>=0.28.0 (from spacy)\n",
      "  Downloading murmurhash-1.0.12-cp312-cp312-manylinux_2_5_x86_64.manylinux1_x86_64.manylinux_2_17_x86_64.manylinux2014_x86_64.whl.metadata (2.1 kB)\n",
      "Collecting cymem<2.1.0,>=2.0.2 (from spacy)\n",
      "  Downloading cymem-2.0.11-cp312-cp312-manylinux_2_17_x86_64.manylinux2014_x86_64.whl.metadata (8.5 kB)\n",
      "Collecting preshed<3.1.0,>=3.0.2 (from spacy)\n",
      "  Downloading preshed-3.0.9-cp312-cp312-manylinux_2_5_x86_64.manylinux1_x86_64.manylinux_2_17_x86_64.manylinux2014_x86_64.whl.metadata (2.2 kB)\n",
      "Collecting thinc<8.4.0,>=8.3.4 (from spacy)\n",
      "  Downloading thinc-8.3.4-cp312-cp312-manylinux_2_17_x86_64.manylinux2014_x86_64.whl.metadata (15 kB)\n",
      "Collecting wasabi<1.2.0,>=0.9.1 (from spacy)\n",
      "  Downloading wasabi-1.1.3-py3-none-any.whl.metadata (28 kB)\n",
      "Collecting srsly<3.0.0,>=2.4.3 (from spacy)\n",
      "  Downloading srsly-2.5.1-cp312-cp312-manylinux_2_17_x86_64.manylinux2014_x86_64.whl.metadata (19 kB)\n",
      "Collecting catalogue<2.1.0,>=2.0.6 (from spacy)\n",
      "  Downloading catalogue-2.0.10-py3-none-any.whl.metadata (14 kB)\n",
      "Collecting weasel<0.5.0,>=0.1.0 (from spacy)\n",
      "  Downloading weasel-0.4.1-py3-none-any.whl.metadata (4.6 kB)\n",
      "Collecting typer<1.0.0,>=0.3.0 (from spacy)\n",
      "  Downloading typer-0.15.2-py3-none-any.whl.metadata (15 kB)\n",
      "Requirement already satisfied: tqdm<5.0.0,>=4.38.0 in /opt/conda/lib/python3.12/site-packages (from spacy) (4.67.1)\n",
      "Requirement already satisfied: numpy>=1.19.0 in /opt/conda/lib/python3.12/site-packages (from spacy) (2.1.3)\n",
      "Requirement already satisfied: requests<3.0.0,>=2.13.0 in /opt/conda/lib/python3.12/site-packages (from spacy) (2.32.3)\n",
      "Requirement already satisfied: pydantic!=1.8,!=1.8.1,<3.0.0,>=1.7.4 in /opt/conda/lib/python3.12/site-packages (from spacy) (2.10.6)\n",
      "Requirement already satisfied: jinja2 in /opt/conda/lib/python3.12/site-packages (from spacy) (3.1.6)\n",
      "Requirement already satisfied: setuptools in /opt/conda/lib/python3.12/site-packages (from spacy) (75.8.2)\n",
      "Requirement already satisfied: packaging>=20.0 in /opt/conda/lib/python3.12/site-packages (from spacy) (24.2)\n",
      "Collecting langcodes<4.0.0,>=3.2.0 (from spacy)\n",
      "  Downloading langcodes-3.5.0-py3-none-any.whl.metadata (29 kB)\n",
      "Collecting language-data>=1.2 (from langcodes<4.0.0,>=3.2.0->spacy)\n",
      "  Downloading language_data-1.3.0-py3-none-any.whl.metadata (4.3 kB)\n",
      "Requirement already satisfied: annotated-types>=0.6.0 in /opt/conda/lib/python3.12/site-packages (from pydantic!=1.8,!=1.8.1,<3.0.0,>=1.7.4->spacy) (0.7.0)\n",
      "Requirement already satisfied: pydantic-core==2.27.2 in /opt/conda/lib/python3.12/site-packages (from pydantic!=1.8,!=1.8.1,<3.0.0,>=1.7.4->spacy) (2.27.2)\n",
      "Requirement already satisfied: typing-extensions>=4.12.2 in /opt/conda/lib/python3.12/site-packages (from pydantic!=1.8,!=1.8.1,<3.0.0,>=1.7.4->spacy) (4.12.2)\n",
      "Requirement already satisfied: charset_normalizer<4,>=2 in /opt/conda/lib/python3.12/site-packages (from requests<3.0.0,>=2.13.0->spacy) (3.4.1)\n",
      "Requirement already satisfied: idna<4,>=2.5 in /opt/conda/lib/python3.12/site-packages (from requests<3.0.0,>=2.13.0->spacy) (3.10)\n",
      "Requirement already satisfied: urllib3<3,>=1.21.1 in /opt/conda/lib/python3.12/site-packages (from requests<3.0.0,>=2.13.0->spacy) (2.3.0)\n",
      "Requirement already satisfied: certifi>=2017.4.17 in /opt/conda/lib/python3.12/site-packages (from requests<3.0.0,>=2.13.0->spacy) (2025.1.31)\n",
      "Collecting blis<1.3.0,>=1.2.0 (from thinc<8.4.0,>=8.3.4->spacy)\n",
      "  Downloading blis-1.2.0-cp312-cp312-manylinux_2_17_x86_64.manylinux2014_x86_64.whl.metadata (7.7 kB)\n",
      "Collecting confection<1.0.0,>=0.0.1 (from thinc<8.4.0,>=8.3.4->spacy)\n",
      "  Downloading confection-0.1.5-py3-none-any.whl.metadata (19 kB)\n",
      "Requirement already satisfied: click>=8.0.0 in /opt/conda/lib/python3.12/site-packages (from typer<1.0.0,>=0.3.0->spacy) (8.1.8)\n",
      "Collecting shellingham>=1.3.0 (from typer<1.0.0,>=0.3.0->spacy)\n",
      "  Downloading shellingham-1.5.4-py2.py3-none-any.whl.metadata (3.5 kB)\n",
      "Collecting rich>=10.11.0 (from typer<1.0.0,>=0.3.0->spacy)\n",
      "  Downloading rich-13.9.4-py3-none-any.whl.metadata (18 kB)\n",
      "Collecting cloudpathlib<1.0.0,>=0.7.0 (from weasel<0.5.0,>=0.1.0->spacy)\n",
      "  Downloading cloudpathlib-0.21.0-py3-none-any.whl.metadata (14 kB)\n",
      "Collecting smart-open<8.0.0,>=5.2.1 (from weasel<0.5.0,>=0.1.0->spacy)\n",
      "  Downloading smart_open-7.1.0-py3-none-any.whl.metadata (24 kB)\n",
      "Requirement already satisfied: MarkupSafe>=2.0 in /opt/conda/lib/python3.12/site-packages (from jinja2->spacy) (3.0.2)\n",
      "Collecting marisa-trie>=1.1.0 (from language-data>=1.2->langcodes<4.0.0,>=3.2.0->spacy)\n",
      "  Downloading marisa_trie-1.2.1-cp312-cp312-manylinux_2_17_x86_64.manylinux2014_x86_64.whl.metadata (9.0 kB)\n",
      "Collecting markdown-it-py>=2.2.0 (from rich>=10.11.0->typer<1.0.0,>=0.3.0->spacy)\n",
      "  Downloading markdown_it_py-3.0.0-py3-none-any.whl.metadata (6.9 kB)\n",
      "Requirement already satisfied: pygments<3.0.0,>=2.13.0 in /opt/conda/lib/python3.12/site-packages (from rich>=10.11.0->typer<1.0.0,>=0.3.0->spacy) (2.19.1)\n",
      "Collecting wrapt (from smart-open<8.0.0,>=5.2.1->weasel<0.5.0,>=0.1.0->spacy)\n",
      "  Downloading wrapt-1.17.2-cp312-cp312-manylinux_2_5_x86_64.manylinux1_x86_64.manylinux_2_17_x86_64.manylinux2014_x86_64.whl.metadata (6.4 kB)\n",
      "Collecting mdurl~=0.1 (from markdown-it-py>=2.2.0->rich>=10.11.0->typer<1.0.0,>=0.3.0->spacy)\n",
      "  Downloading mdurl-0.1.2-py3-none-any.whl.metadata (1.6 kB)\n",
      "Downloading spacy-3.8.4-cp312-cp312-manylinux_2_17_x86_64.manylinux2014_x86_64.whl (31.8 MB)\n",
      "\u001b[2K   \u001b[90m━━━━━━━━━━━━━━━━━━━━━━━━━━━━━━━━━━━━━━━━\u001b[0m \u001b[32m31.8/31.8 MB\u001b[0m \u001b[31m24.8 MB/s\u001b[0m eta \u001b[36m0:00:00\u001b[0m00:01\u001b[0m00:01\u001b[0m\n",
      "\u001b[?25hDownloading catalogue-2.0.10-py3-none-any.whl (17 kB)\n",
      "Downloading cymem-2.0.11-cp312-cp312-manylinux_2_17_x86_64.manylinux2014_x86_64.whl (227 kB)\n",
      "Downloading langcodes-3.5.0-py3-none-any.whl (182 kB)\n",
      "Downloading murmurhash-1.0.12-cp312-cp312-manylinux_2_5_x86_64.manylinux1_x86_64.manylinux_2_17_x86_64.manylinux2014_x86_64.whl (138 kB)\n",
      "Downloading preshed-3.0.9-cp312-cp312-manylinux_2_5_x86_64.manylinux1_x86_64.manylinux_2_17_x86_64.manylinux2014_x86_64.whl (156 kB)\n",
      "Downloading spacy_legacy-3.0.12-py2.py3-none-any.whl (29 kB)\n",
      "Downloading spacy_loggers-1.0.5-py3-none-any.whl (22 kB)\n",
      "Downloading srsly-2.5.1-cp312-cp312-manylinux_2_17_x86_64.manylinux2014_x86_64.whl (1.1 MB)\n",
      "\u001b[2K   \u001b[90m━━━━━━━━━━━━━━━━━━━━━━━━━━━━━━━━━━━━━━━━\u001b[0m \u001b[32m1.1/1.1 MB\u001b[0m \u001b[31m1.7 MB/s\u001b[0m eta \u001b[36m0:00:00\u001b[0mta \u001b[36m0:00:01\u001b[0m\n",
      "\u001b[?25hDownloading thinc-8.3.4-cp312-cp312-manylinux_2_17_x86_64.manylinux2014_x86_64.whl (3.7 MB)\n",
      "\u001b[2K   \u001b[90m━━━━━━━━━━━━━━━━━━━━━━━━━━━━━━━━━━━━━━━━\u001b[0m \u001b[32m3.7/3.7 MB\u001b[0m \u001b[31m7.8 MB/s\u001b[0m eta \u001b[36m0:00:00\u001b[0m0:00:01\u001b[0m\n",
      "\u001b[?25hDownloading typer-0.15.2-py3-none-any.whl (45 kB)\n",
      "Downloading wasabi-1.1.3-py3-none-any.whl (27 kB)\n",
      "Downloading weasel-0.4.1-py3-none-any.whl (50 kB)\n",
      "Downloading blis-1.2.0-cp312-cp312-manylinux_2_17_x86_64.manylinux2014_x86_64.whl (11.6 MB)\n",
      "\u001b[2K   \u001b[90m━━━━━━━━━━━━━━━━━━━━━━━━━━━━━━━━━━━━━━━━\u001b[0m \u001b[32m11.6/11.6 MB\u001b[0m \u001b[31m28.2 MB/s\u001b[0m eta \u001b[36m0:00:00\u001b[0m00:01\u001b[0m00:01\u001b[0m\n",
      "\u001b[?25hDownloading cloudpathlib-0.21.0-py3-none-any.whl (52 kB)\n",
      "Downloading confection-0.1.5-py3-none-any.whl (35 kB)\n",
      "Downloading language_data-1.3.0-py3-none-any.whl (5.4 MB)\n",
      "\u001b[2K   \u001b[90m━━━━━━━━━━━━━━━━━━━━━━━━━━━━━━━━━━━━━━━━\u001b[0m \u001b[32m5.4/5.4 MB\u001b[0m \u001b[31m30.2 MB/s\u001b[0m eta \u001b[36m0:00:00\u001b[0m\n",
      "\u001b[?25hDownloading rich-13.9.4-py3-none-any.whl (242 kB)\n",
      "Downloading shellingham-1.5.4-py2.py3-none-any.whl (9.8 kB)\n",
      "Downloading smart_open-7.1.0-py3-none-any.whl (61 kB)\n",
      "Downloading marisa_trie-1.2.1-cp312-cp312-manylinux_2_17_x86_64.manylinux2014_x86_64.whl (1.4 MB)\n",
      "\u001b[2K   \u001b[90m━━━━━━━━━━━━━━━━━━━━━━━━━━━━━━━━━━━━━━━━\u001b[0m \u001b[32m1.4/1.4 MB\u001b[0m \u001b[31m14.7 MB/s\u001b[0m eta \u001b[36m0:00:00\u001b[0m\n",
      "\u001b[?25hDownloading markdown_it_py-3.0.0-py3-none-any.whl (87 kB)\n",
      "Downloading wrapt-1.17.2-cp312-cp312-manylinux_2_5_x86_64.manylinux1_x86_64.manylinux_2_17_x86_64.manylinux2014_x86_64.whl (89 kB)\n",
      "Downloading mdurl-0.1.2-py3-none-any.whl (10.0 kB)\n",
      "Installing collected packages: cymem, wrapt, wasabi, spacy-loggers, spacy-legacy, shellingham, murmurhash, mdurl, marisa-trie, cloudpathlib, catalogue, blis, srsly, smart-open, preshed, markdown-it-py, language-data, rich, langcodes, confection, typer, thinc, weasel, spacy\n",
      "Successfully installed blis-1.2.0 catalogue-2.0.10 cloudpathlib-0.21.0 confection-0.1.5 cymem-2.0.11 langcodes-3.5.0 language-data-1.3.0 marisa-trie-1.2.1 markdown-it-py-3.0.0 mdurl-0.1.2 murmurhash-1.0.12 preshed-3.0.9 rich-13.9.4 shellingham-1.5.4 smart-open-7.1.0 spacy-3.8.4 spacy-legacy-3.0.12 spacy-loggers-1.0.5 srsly-2.5.1 thinc-8.3.4 typer-0.15.2 wasabi-1.1.3 weasel-0.4.1 wrapt-1.17.2\n"
     ]
    }
   ],
   "source": [
    "!pip install spacy"
   ]
  },
  {
   "cell_type": "code",
   "execution_count": 72,
   "id": "34ad6983-ebef-4dba-a129-085cf8f1feb7",
   "metadata": {},
   "outputs": [
    {
     "name": "stdout",
     "output_type": "stream",
     "text": [
      "Collecting vaderSentiment\n",
      "  Downloading vaderSentiment-3.3.2-py2.py3-none-any.whl.metadata (572 bytes)\n",
      "Requirement already satisfied: requests in /opt/conda/lib/python3.12/site-packages (from vaderSentiment) (2.32.3)\n",
      "Requirement already satisfied: charset_normalizer<4,>=2 in /opt/conda/lib/python3.12/site-packages (from requests->vaderSentiment) (3.4.1)\n",
      "Requirement already satisfied: idna<4,>=2.5 in /opt/conda/lib/python3.12/site-packages (from requests->vaderSentiment) (3.10)\n",
      "Requirement already satisfied: urllib3<3,>=1.21.1 in /opt/conda/lib/python3.12/site-packages (from requests->vaderSentiment) (2.3.0)\n",
      "Requirement already satisfied: certifi>=2017.4.17 in /opt/conda/lib/python3.12/site-packages (from requests->vaderSentiment) (2025.1.31)\n",
      "Downloading vaderSentiment-3.3.2-py2.py3-none-any.whl (125 kB)\n",
      "Installing collected packages: vaderSentiment\n",
      "Successfully installed vaderSentiment-3.3.2\n"
     ]
    }
   ],
   "source": [
    "!pip install vaderSentiment"
   ]
  },
  {
   "cell_type": "code",
   "execution_count": 26,
   "id": "fcd718aa-771c-452b-84ca-47d0f6e933d0",
   "metadata": {},
   "outputs": [],
   "source": [
    "import os\n",
    "import pandas as pd\n",
    "import spacy"
   ]
  },
  {
   "cell_type": "code",
   "execution_count": 73,
   "id": "e891bddb-c513-4cfb-9e52-10b19a9bd7b6",
   "metadata": {},
   "outputs": [],
   "source": [
    "from vaderSentiment.vaderSentiment import SentimentIntensityAnalyzer"
   ]
  },
  {
   "cell_type": "code",
   "execution_count": 63,
   "id": "7184f6fd-5772-4b30-a2f9-53c26e1dae54",
   "metadata": {},
   "outputs": [],
   "source": [
    "# In terminal, run: \n",
    "# python -m spacy download en_core_web_md\n",
    "nlp = spacy.load(\"en_core_web_md\")"
   ]
  },
  {
   "cell_type": "code",
   "execution_count": 31,
   "id": "1f9cebdf-fca7-4654-9b94-6fc5d16befcc",
   "metadata": {},
   "outputs": [],
   "source": [
    "df = pd.read_csv(\"text-analysis.csv\")"
   ]
  },
  {
   "cell_type": "code",
   "execution_count": 32,
   "id": "53ac9984-b5b7-4276-8a64-54332182c685",
   "metadata": {},
   "outputs": [],
   "source": [
    "data = df['text'].tolist()"
   ]
  },
  {
   "cell_type": "code",
   "execution_count": 66,
   "id": "bc4c4d4d-7042-480f-8bbb-58d950527c0d",
   "metadata": {},
   "outputs": [],
   "source": [
    "nouns = []\n",
    "verbs = []\n",
    "adjectives = []\n",
    "adverbs = []"
   ]
  },
  {
   "cell_type": "code",
   "execution_count": 68,
   "id": "cfe0c7b0-ecbc-4cd6-98b9-f413cbc4a574",
   "metadata": {},
   "outputs": [],
   "source": [
    "for t in data:\n",
    "    doc = nlp(str(t))  # Convert to string\n",
    "    for token in doc:\n",
    "        if token.pos_ == \"NOUN\":\n",
    "            nouns.append(token)\n",
    "        if token.pos_ == \"VERB\":\n",
    "            verbs.append(token)\n",
    "        if token.pos_ == \"ADJ\":\n",
    "            adjectives.append(token)\n",
    "        if token.pos_ == \"ADV\":\n",
    "            adverbs.append(token)\n"
   ]
  },
  {
   "cell_type": "code",
   "execution_count": 86,
   "id": "da450bda-624e-4113-8af4-8c29c595a324",
   "metadata": {},
   "outputs": [
    {
     "name": "stdout",
     "output_type": "stream",
     "text": [
      "{'Had a fantastic first week, The information and resources necessary for job success were made readily available, the team made me feel welcome and supported, really could not be better..': 0.8805, 'IT támogatás': 0.0, 'nothing, it was a great start': 0.6249, 'My first week is very good. This is good experience for me.': 0.7264, 'A working, pre-installed computer and a consultation with HR about exactly what tools/authorizations I should have received (card, softwares etc.). In fact, it would have accelerated the first few days.': 0.0, 'smooth access to all required systems ': 0.0, 'did the joining formalities and understand about the grundfos': 0.0, 'Videos that are not repeating': 0.0, 'Local IT to help faster with technical issues ': 0.4019, 'Det var godt alt sammen.': 0.0, 'More clarity about job role and tasks.': 0.4576, 'maybe 1 or 2 extra days, cause is a lot of information. but is super!': 0.7678, 'Cant think of anything': 0.0, 'involvering i opgaver, som jeg fremadrettet skal varetage': 0.0, 'Clear training plan for specific position with expected due dates and responsible trainers.': 0.5994, 'Szerintem nincs olyan.': 0.0, \"Better lunch for employees that doesn't have booked lunch. :D\": 0.7865, 'Bedre struktur for en første uge': 0.0, \"I didn't find anything, that would've made it better.\": 0.4404, 'nothing ': 0.0, 'En lille smule mere overblik over hvad vi skal igennem. Jeg føler det er en smule for tilfældigt og er lidt nervøs for om jeg får lært nok ag kollegerne i Ungarn inden jeg skal retur til DK hvor jeg skal sidde som den eneste i teamet.': 0.0, 'A slideshow to have the welcoming a bit more structured, to see what is expected or to get to know better how to measure oneselfs work.': 0.7003, 'My expectations were exceeded. The person I report to provided the most thorough onboarding guidance I have ever received. My expectations were managed, and I felt / feel very supported. ': 0.3804, 'es war alles wunderbar; die Kollegen sind sehr nett und hilfsbereit.': -0.8316, 'Everything went well': 0.2732, 'nan': 0.0, \"Hard to say. Maybe being told explicitly by someone that it's not just okay to ask anyone about anything but that for the first week everyone is expressedly waiting for me to ask them something. Without being told that, I sometimes hesitate to ask, because I don't want to disturb/interrupt. But this is just a small issue, if any at all.\": -0.5448, 'Nothing': 0.0, '作为新入职员工，我的各项账号创建时间有些缓慢': 0.0, 'Introduction to departments that we coorporate with': 0.0, 'To define in one place all necessary platform access and how to do it, responsible persons....': 0.3182, 'Meeting/training with all the departments': 0.0, 'Get faster access to SAP': 0.0, 'szerintem az első hét tökéletes volt': 0.0, 'I know that my team I new, but there is nothing of equipment at my desk': 0.0, 'field visit': 0.0, 'More clarity regarding tasks that i will be responsible for': 0.6478, 'Culture and My manager were very supportive.': 0.3597, 'Clear listing of other teams, the team members, and how we interact with to them to complete my job': 0.3818}\n"
     ]
    }
   ],
   "source": [
    "analyzer = SentimentIntensityAnalyzer()\n",
    "\n",
    "sentiment_dict = {}\n",
    "\n",
    "for t in data:\n",
    "    text = str(t)\n",
    "    sentiment_score = analyzer.polarity_scores(text)['compound']\n",
    "    sentiment_dict[text] = sentiment_score"
   ]
  },
  {
   "cell_type": "code",
   "execution_count": 90,
   "id": "dfb9ce0f-4c3f-4b89-8b7d-af578953f505",
   "metadata": {},
   "outputs": [
    {
     "name": "stdout",
     "output_type": "stream",
     "text": [
      "{'IT támogatás': 0.0, 'A working, pre-installed computer and a consultation with HR about exactly what tools/authorizations I should have received (card, softwares etc.). In fact, it would have accelerated the first few days.': 0.0, 'smooth access to all required systems ': 0.0, 'did the joining formalities and understand about the grundfos': 0.0, 'Videos that are not repeating': 0.0, 'Det var godt alt sammen.': 0.0, 'Cant think of anything': 0.0, 'involvering i opgaver, som jeg fremadrettet skal varetage': 0.0, 'Szerintem nincs olyan.': 0.0, 'Bedre struktur for en første uge': 0.0, 'nothing ': 0.0, 'En lille smule mere overblik over hvad vi skal igennem. Jeg føler det er en smule for tilfældigt og er lidt nervøs for om jeg får lært nok ag kollegerne i Ungarn inden jeg skal retur til DK hvor jeg skal sidde som den eneste i teamet.': 0.0, 'es war alles wunderbar; die Kollegen sind sehr nett und hilfsbereit.': -0.8316, 'nan': 0.0, \"Hard to say. Maybe being told explicitly by someone that it's not just okay to ask anyone about anything but that for the first week everyone is expressedly waiting for me to ask them something. Without being told that, I sometimes hesitate to ask, because I don't want to disturb/interrupt. But this is just a small issue, if any at all.\": -0.5448, 'Nothing': 0.0, '作为新入职员工，我的各项账号创建时间有些缓慢': 0.0, 'Introduction to departments that we coorporate with': 0.0, 'Meeting/training with all the departments': 0.0, 'Get faster access to SAP': 0.0, 'szerintem az első hét tökéletes volt': 0.0, 'I know that my team I new, but there is nothing of equipment at my desk': 0.0, 'field visit': 0.0}\n"
     ]
    }
   ],
   "source": [
    "negative_sentiments = {}\n",
    "\n",
    "for text, score in sentiment_dict.items():\n",
    "    if score <= 0:\n",
    "        negative_sentiments[text] = score\n",
    "\n",
    "print(negative_sentiments)"
   ]
  },
  {
   "cell_type": "code",
   "execution_count": 91,
   "id": "523f34c3-7477-40ad-adcd-5df61d3a5b72",
   "metadata": {},
   "outputs": [
    {
     "name": "stdout",
     "output_type": "stream",
     "text": [
      "                                                 Text  Sentiment Score\n",
      "0                                        IT támogatás           0.0000\n",
      "1   A working, pre-installed computer and a consul...           0.0000\n",
      "2              smooth access to all required systems            0.0000\n",
      "3   did the joining formalities and understand abo...           0.0000\n",
      "4                       Videos that are not repeating           0.0000\n",
      "5                            Det var godt alt sammen.           0.0000\n",
      "6                              Cant think of anything           0.0000\n",
      "7   involvering i opgaver, som jeg fremadrettet sk...           0.0000\n",
      "8                              Szerintem nincs olyan.           0.0000\n",
      "9                    Bedre struktur for en første uge           0.0000\n",
      "10                                           nothing            0.0000\n",
      "11  En lille smule mere overblik over hvad vi skal...           0.0000\n",
      "12  es war alles wunderbar; die Kollegen sind sehr...          -0.8316\n",
      "13                                                nan           0.0000\n",
      "14  Hard to say. Maybe being told explicitly by so...          -0.5448\n",
      "15                                            Nothing           0.0000\n",
      "16                             作为新入职员工，我的各项账号创建时间有些缓慢           0.0000\n",
      "17  Introduction to departments that we coorporate...           0.0000\n",
      "18          Meeting/training with all the departments           0.0000\n",
      "19                           Get faster access to SAP           0.0000\n",
      "20               szerintem az első hét tökéletes volt           0.0000\n",
      "21  I know that my team I new, but there is nothin...           0.0000\n",
      "22                                        field visit           0.0000\n"
     ]
    }
   ],
   "source": [
    "negative_df = pd.DataFrame(negative_sentiments.items(), columns=['Text', 'Sentiment Score'])\n",
    "\n",
    "print(negative_df)"
   ]
  },
  {
   "cell_type": "code",
   "execution_count": 93,
   "id": "19f9f242-f11d-4fb8-885f-b8d345343ac4",
   "metadata": {},
   "outputs": [
    {
     "name": "stdout",
     "output_type": "stream",
     "text": [
      "IT támogatás\n",
      "A working, pre-installed computer and a consultation with HR about exactly what tools/authorizations I should have received (card, softwares etc.). In fact, it would have accelerated the first few days.\n",
      "smooth access to all required systems \n",
      "did the joining formalities and understand about the grundfos\n",
      "Videos that are not repeating\n",
      "Det var godt alt sammen.\n",
      "Cant think of anything\n",
      "involvering i opgaver, som jeg fremadrettet skal varetage\n",
      "Szerintem nincs olyan.\n",
      "Bedre struktur for en første uge\n",
      "nothing \n",
      "En lille smule mere overblik over hvad vi skal igennem. Jeg føler det er en smule for tilfældigt og er lidt nervøs for om jeg får lært nok ag kollegerne i Ungarn inden jeg skal retur til DK hvor jeg skal sidde som den eneste i teamet.\n",
      "es war alles wunderbar; die Kollegen sind sehr nett und hilfsbereit.\n",
      "nan\n",
      "Hard to say. Maybe being told explicitly by someone that it's not just okay to ask anyone about anything but that for the first week everyone is expressedly waiting for me to ask them something. Without being told that, I sometimes hesitate to ask, because I don't want to disturb/interrupt. But this is just a small issue, if any at all.\n",
      "Nothing\n",
      "作为新入职员工，我的各项账号创建时间有些缓慢\n",
      "Introduction to departments that we coorporate with\n",
      "Meeting/training with all the departments\n",
      "Get faster access to SAP\n",
      "szerintem az első hét tökéletes volt\n",
      "I know that my team I new, but there is nothing of equipment at my desk\n",
      "field visit\n"
     ]
    }
   ],
   "source": [
    "for t in negative_df[\"Text\"]:\n",
    "    print(t)"
   ]
  }
 ],
 "metadata": {
  "kernelspec": {
   "display_name": "Python 3 ",
   "language": "python",
   "name": "python3"
  },
  "language_info": {
   "codemirror_mode": {
    "name": "ipython",
    "version": 3
   },
   "file_extension": ".py",
   "mimetype": "text/x-python",
   "name": "python",
   "nbconvert_exporter": "python",
   "pygments_lexer": "ipython3",
   "version": "3.12.9"
  }
 },
 "nbformat": 4,
 "nbformat_minor": 5
}
